{
 "cells": [
  {
   "cell_type": "markdown",
   "metadata": {},
   "source": [
    "# Flowchart Symbols\n",
    "- **Terminal** nodes are used to begin or end the flowchart. There should only be one start and one end point.\n",
    "\n",
    "- **Input / Output** (Parallelograms) nodes are used to represent where a program needs to recieve or return data to the user. This can be used to represent using `print()` to output data or `input()` to output data.\n",
    "\n",
    "- **Decision** nodes (Diamonds) are used to represent where code may branch dependant on the result of a logical statement. Decisions should only result in Yes or No answers and thus only have two branches. This can be used to represent *Selection Statements* (`if`, `elif`, `else` / `match`, `case`) and/or *Iteration Statements* (`while` / `for`) in Python.\n",
    "\n",
    "- Process nodes (Rectangles) are used to show any process being carried out on data such as arithmetic or other forms of data-manipulation. In general if no other node fits it is likely a process node.\n",
    "\n",
    "- **Subroutine** nodes (Paralleograms) are used to represent a group of statements (normally by referring to another flowchart). This can be used to represent *Methods* that you have defined with `def` in Python.\n",
    "\n",
    "- **Connector** nodes (Circles) are used to join multiple branched paths together."
   ]
  },
  {
   "cell_type": "markdown",
   "metadata": {},
   "source": [
    "```mermaid\n",
    "---\n",
    "title: Flowchart Symbols\n",
    "---\n",
    "flowchart TD\n",
    "    terminal([\"Terminal\"])\n",
    "    process[\"Process\"]\n",
    "    subroutine[[\"Subroutine\"]]\n",
    "    decision{\"Decision\"}\n",
    "    io[/\"Input / Output\"/]\n",
    "```"
   ]
  },
  {
   "cell_type": "markdown",
   "metadata": {},
   "source": [
    "# Selection Statements\n",
    "## Python\n",
    "The following Python code takes a the users input as an integer and then returns if it is positive, negative or zero."
   ]
  },
  {
   "cell_type": "code",
   "execution_count": 1,
   "metadata": {},
   "outputs": [
    {
     "name": "stdout",
     "output_type": "stream",
     "text": [
      "5 is positive.\n"
     ]
    }
   ],
   "source": [
    "number = int(input(\"Enter a number: \"))\n",
    "if number > 0:\n",
    "    print(number, 'is positive.')\n",
    "elif A < 0:\n",
    "    print(number, 'is negative.')\n",
    "else:\n",
    "    print(number, 'is zero.')"
   ]
  },
  {
   "cell_type": "markdown",
   "metadata": {},
   "source": [
    "## Pseudocode\n",
    "This is a pseudocode equivalent to the above Python code.\n",
    "\n",
    "```\n",
    "INPUT number AS integer\n",
    "IF number is positive THEN\n",
    "    PRINT number is positive\n",
    "ELSE IF number is negative THEN\n",
    "    PRINT number is negative\n",
    "ELSE\n",
    "    PRINT number is zero\n",
    "```"
   ]
  },
  {
   "cell_type": "markdown",
   "metadata": {},
   "source": [
    "## Flowcharts\n",
    "This is a flowchart equivalent to the above Python code.\n",
    "\n",
    "```mermaid\n",
    "flowchart TD\n",
    "    start([\"Start\"])\n",
    "    numberIn[/\"Input number\"/]\n",
    "    isPositive{\"is number positive?\"}\n",
    "    displayPositive[/\"DISPLAY number is positive\"/]\n",
    "    isNegative{\"is number negative?\"}\n",
    "    displayNegative[/\"DISPLAY number is negative\"/]\n",
    "    displayZero[/\"DISPLAY number is zero\"/]\n",
    "    connector1((\" \"))\n",
    "    stop([\"Stop\"])\n",
    "\n",
    "    start --> numberIn --> isPositive --\"Yes\"--> displayPositive --> connector1 --> stop\n",
    "    isPositive --\"No\"--> isNegative --\"Yes\"--> displayNegative --> connector1\n",
    "    isNegative --\"No\"--> displayZero --> connector1\n",
    "```"
   ]
  },
  {
   "cell_type": "markdown",
   "metadata": {},
   "source": [
    "# Selection Statements\n",
    "## Python\n",
    "The following Python code shows two examples of loops using `while` and `for` syntax. Both loops iterate from 0 to 10 incrementing by 1 and printing the current value of their iterator."
   ]
  },
  {
   "cell_type": "code",
   "execution_count": 2,
   "metadata": {},
   "outputs": [
    {
     "name": "stdout",
     "output_type": "stream",
     "text": [
      "0\n",
      "1\n",
      "2\n",
      "3\n",
      "4\n",
      "5\n",
      "6\n",
      "7\n",
      "8\n",
      "9\n",
      "0\n",
      "1\n",
      "2\n",
      "3\n",
      "4\n",
      "5\n",
      "6\n",
      "7\n",
      "8\n",
      "9\n"
     ]
    }
   ],
   "source": [
    "c = 0\n",
    "while c < 10:\n",
    "    print(c)\n",
    "    c += 1\n",
    "\n",
    "for i in range(0, 10, 1):\n",
    "    print(i)"
   ]
  },
  {
   "cell_type": "markdown",
   "metadata": {},
   "source": [
    "## Pseudocode\n",
    "This is a pseudocode equivalent to the above Python code.\n",
    "\n",
    "```\n",
    "c = 0\n",
    "LOOP WHILE c < 10\n",
    "    PRINT c\n",
    "    increment c\n",
    "\n",
    "FOR i FROM 0 TO 10 INC 1 // Suggested syntax\n",
    "    PRINT i\n",
    "```"
   ]
  },
  {
   "cell_type": "markdown",
   "metadata": {},
   "source": [
    "## Flowchart\n",
    "This is a flowchart equivalent to the above Python code.\n",
    "\n",
    "```mermaid\n",
    "flowchart TD\n",
    "    start([\"Start\"])\n",
    "    assignC[\"c = 0\"]\n",
    "    whileLoop{\"Is c < 10?\"}\n",
    "    displayC[/\"DISPLAY c\"/]\n",
    "    incrementC[/\"Increment c\"/]\n",
    "    assignI[\"i = 0\"]\n",
    "    forLoop{\"Is i < 10?\"}\n",
    "    displayI[/\"DISPLAY i\"/]\n",
    "    incrementI[/\"Increment i\"/]\n",
    "    stop([\"Stop\"])\n",
    "    start --> assignC --> whileLoop --\"Yes\"--> displayC --> incrementC --> assignI --> whileLoop\n",
    "    whileLoop --\"No\"--> forLoop --\"Yes\"--> displayI --> incrementI --> stop\n",
    "    forLoop --\"No\"--> stop\n",
    "```"
   ]
  }
 ],
 "metadata": {
  "kernelspec": {
   "display_name": "Python 3",
   "language": "python",
   "name": "python3"
  },
  "language_info": {
   "codemirror_mode": {
    "name": "ipython",
    "version": 3
   },
   "file_extension": ".py",
   "mimetype": "text/x-python",
   "name": "python",
   "nbconvert_exporter": "python",
   "pygments_lexer": "ipython3",
   "version": "3.12.3"
  }
 },
 "nbformat": 4,
 "nbformat_minor": 2
}
